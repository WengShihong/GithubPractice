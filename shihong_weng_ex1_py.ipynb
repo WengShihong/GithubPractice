{
  "nbformat": 4,
  "nbformat_minor": 0,
  "metadata": {
    "colab": {
      "provenance": [],
      "authorship_tag": "ABX9TyM6M6wvR6fagpehy2Wzrxn6",
      "include_colab_link": true
    },
    "kernelspec": {
      "name": "python3",
      "display_name": "Python 3"
    },
    "language_info": {
      "name": "python"
    }
  },
  "cells": [
    {
      "cell_type": "markdown",
      "metadata": {
        "id": "view-in-github",
        "colab_type": "text"
      },
      "source": [
        "<a href=\"https://colab.research.google.com/github/WengShihong/GithubPractice/blob/main/shihong_weng_ex1_py.ipynb\" target=\"_parent\"><img src=\"https://colab.research.google.com/assets/colab-badge.svg\" alt=\"Open In Colab\"/></a>"
      ]
    },
    {
      "cell_type": "code",
      "execution_count": null,
      "metadata": {
        "id": "n1tgchDnFWCH"
      },
      "outputs": [],
      "source": [
        "student_name = \"Shihong Weng\""
      ]
    },
    {
      "cell_type": "code",
      "source": [
        "student_program = \"Master of Arts Program in the Humanities (MAPH)\""
      ],
      "metadata": {
        "id": "-60xi4EwHSAb"
      },
      "execution_count": null,
      "outputs": []
    },
    {
      "cell_type": "code",
      "source": [
        "prgm_exp = \"I have taken one course in Python and one course in data science that involves using Python.Thus I have moderate experience in Python and some experience in R.\""
      ],
      "metadata": {
        "id": "Bl2qgJ7-HSNi"
      },
      "execution_count": null,
      "outputs": []
    },
    {
      "cell_type": "code",
      "source": [
        "math_bkgrnd = \"I am very familiar with calculus and linear algebra, but I have little experience in their application in computational linguistics. I know little about information theory or probability theory.\""
      ],
      "metadata": {
        "id": "zid94Z-oHWR3"
      },
      "execution_count": null,
      "outputs": []
    },
    {
      "cell_type": "code",
      "source": [
        "#Below are courses I took when I was an ungrad.\n",
        "relevant_courses = \"Intro to Python and Intro to Data Science\""
      ],
      "metadata": {
        "id": "6r7I9R3FHWcU"
      },
      "execution_count": null,
      "outputs": []
    },
    {
      "cell_type": "code",
      "source": [
        "self_introduction_1 = print( \"My name is \" + student_name + \". My program is \" + student_program + \".\")"
      ],
      "metadata": {
        "colab": {
          "base_uri": "https://localhost:8080/"
        },
        "id": "P0PQ08QZHkFj",
        "outputId": "51df2b24-67ee-470c-b7bd-3ea4e550bd79"
      },
      "execution_count": null,
      "outputs": [
        {
          "output_type": "stream",
          "name": "stdout",
          "text": [
            "My name is Shihong Weng. My program is Master of Arts Program in the Humanities (MAPH).\n"
          ]
        }
      ]
    },
    {
      "cell_type": "code",
      "source": [
        "self_introduction_2 = print(prgm_exp + math_bkgrnd + \"I have taken two courses:\" + relevant_courses + \".\")"
      ],
      "metadata": {
        "colab": {
          "base_uri": "https://localhost:8080/"
        },
        "id": "BfjLX8HeIz6d",
        "outputId": "cab62cf3-3486-47cf-c42c-0a461cf031f3"
      },
      "execution_count": null,
      "outputs": [
        {
          "output_type": "stream",
          "name": "stdout",
          "text": [
            "I have taken one course in Python and one course in data science that involves using Python.Thus I have moderate experience in Python and some experience in R.I am very familiar with calculus and linear algebra, but I have little experience in their application in computational linguistics. I know little about information theory or probability theory.I have taken two courses:Intro to Python and Intro to Data Science.\n"
          ]
        }
      ]
    }
  ]
}